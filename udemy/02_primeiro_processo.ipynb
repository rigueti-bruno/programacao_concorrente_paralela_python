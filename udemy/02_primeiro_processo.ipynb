{
 "cells": [
  {
   "cell_type": "markdown",
   "id": "06bbc0d0",
   "metadata": {},
   "source": [
    "#### Bibliotecas necessárias:"
   ]
  },
  {
   "cell_type": "code",
   "execution_count": 1,
   "id": "f8065fe5",
   "metadata": {},
   "outputs": [],
   "source": [
    "from datetime import datetime\n",
    "import multiprocessing # biblioteca para trabalhar com processos\n",
    "from multiprocessing import Process # biblioteca para trabalhar com processos - objeto processo"
   ]
  },
  {
   "cell_type": "markdown",
   "id": "e4391e19",
   "metadata": {},
   "source": [
    "#### Função CPU Bound que será executada pelos processos:"
   ]
  },
  {
   "cell_type": "code",
   "execution_count": 2,
   "id": "8ae413fc",
   "metadata": {},
   "outputs": [],
   "source": [
    "def do_work():\n",
    "    print(\"Starting work\")\n",
    "    i = 0\n",
    "    for _ in range(20000000): # simula um longo calculo matemático\n",
    "        i += 1\n",
    "    print(\"Finished work\")\n"
   ]
  },
  {
   "cell_type": "markdown",
   "id": "1d15b6d3",
   "metadata": {},
   "source": [
    "#### Criação e Execução dos Processos:"
   ]
  },
  {
   "cell_type": "code",
   "execution_count": null,
   "id": "46ebbb3d",
   "metadata": {},
   "outputs": [
    {
     "name": "stdout",
     "output_type": "stream",
     "text": [
      "Starting work\n",
      "Starting work\n",
      "Starting work\n",
      "Starting work\n",
      "Starting worktempo gasto: 0.026742 segundos\n",
      "\n"
     ]
    },
    {
     "name": "stdout",
     "output_type": "stream",
     "text": [
      "Finished workFinished work\n",
      "\n",
      "Finished work\n",
      "Finished work\n",
      "Finished work\n"
     ]
    }
   ],
   "source": [
    "start = datetime.now()\n",
    "\n",
    "for _ in range(5):\n",
    "    p=Process(target=do_work,args=())\n",
    "    p.start()\n",
    "\n",
    "finish = datetime.now()\n",
    "tempo = finish - start\n",
    "print(f\"tempo gasto: {tempo.total_seconds()} segundos\")"
   ]
  }
 ],
 "metadata": {
  "kernelspec": {
   "display_name": "Python 3",
   "language": "python",
   "name": "python3"
  },
  "language_info": {
   "codemirror_mode": {
    "name": "ipython",
    "version": 3
   },
   "file_extension": ".py",
   "mimetype": "text/x-python",
   "name": "python",
   "nbconvert_exporter": "python",
   "pygments_lexer": "ipython3",
   "version": "3.12.3"
  }
 },
 "nbformat": 4,
 "nbformat_minor": 5
}
