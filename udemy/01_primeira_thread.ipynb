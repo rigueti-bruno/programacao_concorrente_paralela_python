{
 "cells": [
  {
   "cell_type": "code",
   "execution_count": 8,
   "id": "bf830b3b",
   "metadata": {},
   "outputs": [],
   "source": [
    "# Bibliotecas Necessárias:\n",
    "import time # operações com tempo\n",
    "from datetime import datetime # operações com data e hora\n",
    "from threading import Thread # operações com threads"
   ]
  },
  {
   "cell_type": "markdown",
   "id": "bf30c3ea",
   "metadata": {},
   "source": [
    "#### Primeiro Programa - Simples/IO Bound:"
   ]
  },
  {
   "cell_type": "code",
   "execution_count": 4,
   "id": "4d9469c7",
   "metadata": {},
   "outputs": [],
   "source": [
    "def do_work():\n",
    "    print(\"Starting work\")\n",
    "    time.sleep(1)\n",
    "    print(\"Finished work\")"
   ]
  },
  {
   "cell_type": "markdown",
   "id": "c4e3cd59",
   "metadata": {},
   "source": [
    "#### Execução comum do programa apenas com Loop for:"
   ]
  },
  {
   "cell_type": "code",
   "execution_count": 5,
   "id": "e305f078",
   "metadata": {},
   "outputs": [
    {
     "name": "stdout",
     "output_type": "stream",
     "text": [
      "Starting work\n",
      "Finished work\n",
      "Starting work\n",
      "Finished work\n",
      "Starting work\n",
      "Finished work\n",
      "Starting work\n",
      "Finished work\n",
      "Starting work\n",
      "Finished work\n",
      "tempo gasto: 5.002805 segundos\n"
     ]
    }
   ],
   "source": [
    "inicio = datetime.now()\n",
    "for _ in range(5):\n",
    "    do_work()\n",
    "    \n",
    "fim = datetime.now()\n",
    "tempo = fim - inicio\n",
    "print(f\"tempo gasto: {tempo.total_seconds()} segundos\")"
   ]
  },
  {
   "cell_type": "markdown",
   "id": "b4a8aae9",
   "metadata": {},
   "source": [
    "#### Execução do Programa com Threads:"
   ]
  },
  {
   "cell_type": "code",
   "execution_count": null,
   "id": "3de3618f",
   "metadata": {},
   "outputs": [
    {
     "name": "stdout",
     "output_type": "stream",
     "text": [
      "Starting work\n",
      "Starting work\n",
      "Starting work\n",
      "Starting work\n",
      "Starting work\n",
      "tempo gasto: 0.003778 segundos\n"
     ]
    },
    {
     "name": "stdout",
     "output_type": "stream",
     "text": [
      "Finished work\n",
      "Finished work\n",
      "Finished work\n",
      "Finished work\n",
      "Finished work\n"
     ]
    }
   ],
   "source": [
    "inicio = datetime.now()\n",
    "for _ in range(5):\n",
    "    t = Thread(target=do_work,args=()) # target=frunção a executar / args=argumentos da função a executar\n",
    "    t.start() # inicia a thread\n",
    "\n",
    "fim = datetime.now()\n",
    "tempo = fim - inicio\n",
    "print(f\"tempo gasto: {tempo.total_seconds()} segundos\")"
   ]
  },
  {
   "cell_type": "markdown",
   "id": "bae83987",
   "metadata": {},
   "source": [
    "#### Segundo Programa - Calculo/CPU Bound:"
   ]
  },
  {
   "cell_type": "code",
   "execution_count": null,
   "id": "8ccd9de3",
   "metadata": {},
   "outputs": [],
   "source": [
    "def do_work():\n",
    "    print(\"Starting work\")\n",
    "    i = 0\n",
    "    for _ in range(20000000): # simula um longo calculo matemático\n",
    "        i += 1\n",
    "    print(\"Finished work\")"
   ]
  },
  {
   "cell_type": "markdown",
   "id": "50d1775e",
   "metadata": {},
   "source": [
    "#### Execução com Threads:"
   ]
  },
  {
   "cell_type": "code",
   "execution_count": 14,
   "id": "41385c1c",
   "metadata": {},
   "outputs": [
    {
     "name": "stdout",
     "output_type": "stream",
     "text": [
      "Starting work\n",
      "Starting work\n",
      "Starting work\n",
      "Starting work\n",
      "Starting work\n",
      "tempo gasto: 0.085394 segundos\n"
     ]
    },
    {
     "name": "stdout",
     "output_type": "stream",
     "text": [
      "Finished work\n",
      "Finished work\n",
      "Finished work\n",
      "Finished work\n",
      "Finished work\n"
     ]
    }
   ],
   "source": [
    "inicio = datetime.now()\n",
    "for _ in range(5):\n",
    "    t = Thread(target=do_work,args=()) # target=frunção a executar / args=argumentos da função a executar\n",
    "    t.start() # inicia a thread\n",
    "\n",
    "fim = datetime.now()\n",
    "tempo = fim - inicio\n",
    "print(f\"tempo gasto: {tempo.total_seconds()} segundos\")"
   ]
  }
 ],
 "metadata": {
  "kernelspec": {
   "display_name": "Python 3",
   "language": "python",
   "name": "python3"
  },
  "language_info": {
   "codemirror_mode": {
    "name": "ipython",
    "version": 3
   },
   "file_extension": ".py",
   "mimetype": "text/x-python",
   "name": "python",
   "nbconvert_exporter": "python",
   "pygments_lexer": "ipython3",
   "version": "3.12.3"
  }
 },
 "nbformat": 4,
 "nbformat_minor": 5
}
